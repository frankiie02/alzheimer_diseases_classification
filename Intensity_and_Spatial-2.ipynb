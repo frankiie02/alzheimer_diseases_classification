{
  "nbformat": 4,
  "nbformat_minor": 0,
  "metadata": {
    "colab": {
      "provenance": [],
      "machine_shape": "hm",
      "gpuType": "A100"
    },
    "kernelspec": {
      "name": "python3",
      "display_name": "Python 3"
    },
    "language_info": {
      "name": "python"
    },
    "accelerator": "GPU"
  },
  "cells": [
    {
      "cell_type": "code",
      "source": [
        "pip install numpy keras SimpleITK scikit-learn deap h5py"
      ],
      "metadata": {
        "colab": {
          "base_uri": "https://localhost:8080/"
        },
        "id": "xCu7D9JzQdXl",
        "outputId": "83d644bf-3ede-4f4b-9c0d-b89e8698a0c9"
      },
      "execution_count": null,
      "outputs": [
        {
          "output_type": "stream",
          "name": "stdout",
          "text": [
            "Collecting SimpleITK\n",
            "  Downloading SimpleITK-2.3.0-cp310-cp310-manylinux_2_17_x86_64.manylinux2014_x86_64.whl (52.6 MB)\n",
            "\u001b[2K     \u001b[90m━━━━━━━━━━━━━━━━━━━━━━━━━━━━━━━━━━━━━━━━\u001b[0m \u001b[32m52.6/52.6 MB\u001b[0m \u001b[31m33.5 MB/s\u001b[0m eta \u001b[36m0:00:00\u001b[0m\n",
            "\u001b[?25hInstalling collected packages: SimpleITK\n",
            "Successfully installed SimpleITK-2.3.0\n"
          ]
        }
      ]
    },
    {
      "cell_type": "code",
      "execution_count": null,
      "metadata": {
        "id": "vMGNLUpdPF-V"
      },
      "outputs": [],
      "source": [
        "import os\n",
        "import numpy as np\n",
        "import SimpleITK as sitk\n",
        "\n",
        "# Function to apply intensity normalization to 3D volume\n",
        "def intensity_normalize_3d(input_data):\n",
        "    # Normalize the entire 3D volume\n",
        "    min_val = np.min(input_data)\n",
        "    max_val = np.max(input_data)\n",
        "    normalized_data = (input_data - min_val) / (max_val - min_val)\n",
        "    return normalized_data\n",
        "\n",
        "def spatial_normalize_3d(input_data):\n",
        "    try:\n",
        "        fixed_image_path = \"/content/mni_icbm152_t1_tal_nlin_asym_09b_hires.nii\"\n",
        "        fixed_image = sitk.ReadImage(fixed_image_path)\n",
        "\n",
        "        # Ensure the fixed image has the same data type as input_data (64-bit float)\n",
        "        fixed_image = sitk.Cast(fixed_image, sitk.sitkFloat64)\n",
        "\n",
        "        input_image = sitk.GetImageFromArray(input_data)\n",
        "\n",
        "        # Resample input_image to match the dimensions of fixed_image\n",
        "        input_image = sitk.Resample(input_image, fixed_image.GetSize(), sitk.Transform(), sitk.sitkLinear)\n",
        "\n",
        "        input_image.CopyInformation(fixed_image)  # Now copy information\n",
        "\n",
        "        registration = sitk.ImageRegistrationMethod()\n",
        "        registration.SetMetricAsMattesMutualInformation(numberOfHistogramBins=50)\n",
        "        registration.SetMetricSamplingStrategy(sitk.ImageRegistrationMethod.RANDOM)\n",
        "        registration.SetMetricSamplingPercentage(0.01)\n",
        "        registration.SetInterpolator(sitk.sitkLinear)\n",
        "        registration.SetOptimizerAsGradientDescent(learningRate=1.0, numberOfIterations=100, convergenceMinimumValue=1e-6, convergenceWindowSize=10)\n",
        "        registration.SetOptimizerScalesFromPhysicalShift()\n",
        "        initial_transform = sitk.AffineTransform(fixed_image.GetDimension())\n",
        "        registration.SetInitialTransform(initial_transform)\n",
        "        registration.AddCommand(sitk.sitkIterationEvent, lambda: print(f\"Iteration: {registration.GetOptimizerIteration()} - Metric Value: {registration.GetMetricValue()}\"))\n",
        "        final_transform = registration.Execute(fixed_image, input_image)\n",
        "\n",
        "        resampler = sitk.ResampleImageFilter()\n",
        "        resampler.SetReferenceImage(fixed_image)\n",
        "        resampler.SetTransform(final_transform)\n",
        "        warped_image = resampler.Execute(input_image)\n",
        "\n",
        "        warped_data = sitk.GetArrayFromImage(warped_image)\n",
        "\n",
        "        return warped_data\n",
        "    except Exception as e:\n",
        "        print(f\"An error occurred in spatial_normalize_3d: {e}\")\n",
        "        return None\n",
        "\n",
        "# Load your 3D dataset here, assuming it's stored in a folder with sub-folders (classes)\n",
        "data_folder = \"/content/drive/MyDrive/ADoutput_file_NIFTi\"\n",
        "output_folder = \"/content/drive/MyDrive/Normalization_output_file2\"\n",
        "\n",
        "# Create the output folder if it doesn't exist\n",
        "os.makedirs(output_folder, exist_ok=True)\n",
        "\n",
        "# Iterate through your 3D dataset, preserving class structure, and apply normalization\n",
        "for class_folder in os.listdir(data_folder):\n",
        "    class_path = os.path.join(data_folder, class_folder)\n",
        "    if os.path.isdir(class_path):\n",
        "        output_class_folder = os.path.join(output_folder, class_folder)\n",
        "        os.makedirs(output_class_folder, exist_ok=True)\n",
        "\n",
        "        for file_name in os.listdir(class_path):\n",
        "            if file_name.endswith(\".npy\"):\n",
        "                file_path = os.path.join(class_path, file_name)\n",
        "                output_path = os.path.join(output_class_folder, file_name)\n",
        "\n",
        "                # Check if the output file already exists, if so, skip this image\n",
        "                if os.path.exists(output_path):\n",
        "                    print(f\"Skipping {file_name} as it's already preprocessed.\")\n",
        "                    continue\n",
        "\n",
        "                print(f\"Loading data from {file_path}\")\n",
        "                image_data = np.load(file_path)\n",
        "\n",
        "                # Apply intensity normalization\n",
        "                print(\"Applying intensity normalization...\")\n",
        "                normalized_data = intensity_normalize_3d(image_data)\n",
        "\n",
        "                if normalized_data is not None:\n",
        "                    # Apply spatial normalization\n",
        "                    print(\"Applying spatial normalization...\")\n",
        "                    spatial_normalized_data = spatial_normalize_3d(normalized_data)\n",
        "\n",
        "                    if spatial_normalized_data is not None:\n",
        "                        # Save the spatially normalized data in the class-specific output folder\n",
        "                        np.save(output_path, spatial_normalized_data)\n",
        "                        print(f\"Saved normalized data to {output_path}\")\n",
        "\n",
        "# Now, your normalized 3D dataset is saved in the output folder with the same class structure.\n"
      ]
    },
    {
      "cell_type": "code",
      "source": [
        "#import shutil\n",
        "\n",
        "#directory_to_delete = \"/content/Normalization_output_file/VeryMildDemented\"  # Replace with the actual path\n",
        "\n",
        "try:\n",
        "    shutil.rmtree(directory_to_delete)\n",
        "    print(f\"Directory '{directory_to_delete}' and its contents have been deleted successfully.\")\n",
        "except Exception as e:\n",
        "    print(f\"An error occurred while deleting the directory: {e}\")\n"
      ],
      "metadata": {
        "colab": {
          "base_uri": "https://localhost:8080/"
        },
        "id": "8T7yKGv1rcUz",
        "outputId": "f468eaf1-e65d-4ccd-b4fe-7a5afa898ab0"
      },
      "execution_count": null,
      "outputs": [
        {
          "output_type": "stream",
          "name": "stdout",
          "text": [
            "Directory '/content/Normalization_output_file/VeryMildDemented' and its contents have been deleted successfully.\n"
          ]
        }
      ]
    },
    {
      "cell_type": "code",
      "source": [],
      "metadata": {
        "id": "x9PYYkrjIEES"
      },
      "execution_count": null,
      "outputs": []
    },
    {
      "cell_type": "code",
      "source": [
        "pip install tensorflow"
      ],
      "metadata": {
        "id": "3IAk7jHoIJaV"
      },
      "execution_count": null,
      "outputs": []
    },
    {
      "cell_type": "code",
      "source": [
        "pip install opencv-python"
      ],
      "metadata": {
        "id": "WAq2GOKRINin"
      },
      "execution_count": null,
      "outputs": []
    },
    {
      "cell_type": "code",
      "source": [
        "from deap import base, creator, tools, algorithms"
      ],
      "metadata": {
        "id": "tNGK2HT1IVTZ"
      },
      "execution_count": null,
      "outputs": []
    },
    {
      "cell_type": "code",
      "source": [
        "!pip install tensorflow-gpu\n"
      ],
      "metadata": {
        "id": "17-NuMPFgJv2"
      },
      "execution_count": null,
      "outputs": []
    }
  ]
}